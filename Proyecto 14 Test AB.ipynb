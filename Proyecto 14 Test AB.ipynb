{
 "cells": [
  {
   "cell_type": "markdown",
   "metadata": {},
   "source": [
    "# Hola &#x1F600;\n",
    "\n",
    "Soy **Hesus Garcia**, revisor de código de Triple Ten, y voy a examinar el proyecto que has desarrollado recientemente. Si encuentro algún error, te lo señalaré para que lo corrijas, ya que mi objetivo es ayudarte a prepararte para un ambiente de trabajo real, donde el líder de tu equipo actuaría de la misma manera. Si no puedes solucionar el problema, te proporcionaré más información en la próxima oportunidad. Cuando encuentres un comentario,  **por favor, no los muevas, no los modifiques ni los borres**. \n",
    "\n",
    "Revisaré cuidadosamente todas las implementaciones que has realizado para cumplir con los requisitos y te proporcionaré mis comentarios de la siguiente manera:\n",
    "\n",
    "\n",
    "<div class=\"alert alert-block alert-success\">\n",
    "<b>Comentario del revisor</b> <a class=“tocSkip”></a>\n",
    "Si todo está perfecto.\n",
    "</div>\n",
    "\n",
    "<div class=\"alert alert-block alert-warning\">\n",
    "<b>Comentario del revisor</b> <a class=“tocSkip”></a>\n",
    "Si tu código está bien pero se puede mejorar o hay algún detalle que le hace falta.\n",
    "</div>\n",
    "\n",
    "<div class=\"alert alert-block alert-danger\">\n",
    "<b>Comentario del revisor</b> <a class=“tocSkip”></a>\n",
    "Si de pronto hace falta algo o existe algún problema con tu código o conclusiones.\n",
    "</div>\n",
    "\n",
    "Puedes responderme de esta forma:\n",
    "<div class=\"alert alert-block alert-info\">\n",
    "<b>Respuesta del estudiante</b> <a class=“tocSkip”></a>\n",
    "</div>\n",
    "\n",
    "</br>\n",
    "\n",
    "**¡Empecemos!**  &#x1F680;\n"
   ]
  },
  {
   "cell_type": "markdown",
   "metadata": {},
   "source": [
    "# Proyecto: Test A/B"
   ]
  },
  {
   "cell_type": "markdown",
   "metadata": {},
   "source": [
    "# Introducción."
   ]
  },
  {
   "cell_type": "markdown",
   "metadata": {},
   "source": [
    "En este proyecto, llevamos a cabo un análisis detallado de una prueba A/B realizada por una tienda en línea internacional para evaluar un nuevo embudo de pago. El objetivo principal del experimento es determinar si la introducción de un sistema de recomendaciones mejorado puede aumentar las tasas de conversión en diversas etapas del embudo de compra: vistas de la página del producto, adición de artículos al carrito y compras efectivas."
   ]
  },
  {
   "cell_type": "markdown",
   "metadata": {},
   "source": [
    "<div class=\"alert alert-block alert-warning\">\n",
    "<b>Comentario del revisor</b> <a class=“tocSkip”></a>\n",
    "Considera la posibilidad de incluir una tabla de contenidos al inicio de tu proyecto. Esto no solo mejorará la estructura y presentación de tu análisis, sino que también facilitará la navegación y comprensión de los distintos temas tratados, especialmente para proyectos extensos con múltiples secciones y subsecciones. Una tabla de contenidos bien organizada puede mejorar significativamente la experiencia del lector y destacar la profesionalidad de tu trabajo.\n",
    "</div>\n"
   ]
  },
  {
   "cell_type": "markdown",
   "metadata": {},
   "source": [
    "## Descripción de objetivos del estudio."
   ]
  },
  {
   "cell_type": "markdown",
   "metadata": {},
   "source": [
    "- El objetivo principal del estudio es analizar los resultados de una prueba A/B realizada en una tienda en línea internacional. La prueba se llevó a cabo para probar cambios relacionados con la introducción de un sistema de recomendaciones mejorado.\n",
    "Específicamente, se espera que dentro de los 14 días posteriores a la inscripción, los usuarios muestren una mejor conversión en vistas de la página del producto (product_page), instancias de agregar artículos al carrito de compras (product_card) y compras (purchase)."
   ]
  },
  {
   "cell_type": "markdown",
   "metadata": {},
   "source": [
    "## Descarga y optimización de datos\n",
    "En este paso, nos enfocamos en obtener los datos necesarios para nuestro análisis y prepararlos adecuadamente para su posterior exploración."
   ]
  },
  {
   "cell_type": "markdown",
   "metadata": {},
   "source": [
    "### Inicialización."
   ]
  },
  {
   "cell_type": "code",
   "execution_count": 1,
   "metadata": {},
   "outputs": [],
   "source": [
    "# cargar librerias\n",
    "import pandas as pd\n",
    "import numpy as np\n",
    "from scipy import stats"
   ]
  },
  {
   "cell_type": "markdown",
   "metadata": {},
   "source": [
    "### Cargar datos."
   ]
  },
  {
   "cell_type": "code",
   "execution_count": 2,
   "metadata": {},
   "outputs": [],
   "source": [
    "# Cargar los datos\n",
    "marketing_events = pd.read_csv(\"/datasets/ab_project_marketing_events_us.csv\")\n",
    "new_users = pd.read_csv(\"/datasets/final_ab_new_users_upd_us.csv\")\n",
    "events = pd.read_csv(\"/datasets/final_ab_events_upd_us.csv\")\n",
    "participants = pd.read_csv(\"/datasets/final_ab_participants_upd_us.csv\")"
   ]
  },
  {
   "cell_type": "markdown",
   "metadata": {},
   "source": [
    "### Verificar tipos de datos."
   ]
  },
  {
   "cell_type": "code",
   "execution_count": 3,
   "metadata": {},
   "outputs": [
    {
     "name": "stdout",
     "output_type": "stream",
     "text": [
      "Tipos de datos en ab_project_marketing_events_us.csv:\n",
      "name         object\n",
      "regions      object\n",
      "start_dt     object\n",
      "finish_dt    object\n",
      "dtype: object\n",
      "\n",
      "Tipos de datos en final_ab_new_users_upd_us.csv:\n",
      "user_id       object\n",
      "first_date    object\n",
      "region        object\n",
      "device        object\n",
      "dtype: object\n",
      "\n",
      "Tipos de datos en final_ab_events_upd_us.csv:\n",
      "user_id        object\n",
      "event_dt       object\n",
      "event_name     object\n",
      "details       float64\n",
      "dtype: object\n",
      "\n",
      "Tipos de datos en final_ab_participants_upd_us.csv:\n",
      "user_id    object\n",
      "group      object\n",
      "ab_test    object\n",
      "dtype: object\n"
     ]
    }
   ],
   "source": [
    "# Tipos de datos\n",
    "print(\"Tipos de datos en ab_project_marketing_events_us.csv:\")\n",
    "print(marketing_events.dtypes)\n",
    "print(\"\\nTipos de datos en final_ab_new_users_upd_us.csv:\")\n",
    "print(new_users.dtypes)\n",
    "print(\"\\nTipos de datos en final_ab_events_upd_us.csv:\")\n",
    "print(events.dtypes)\n",
    "print(\"\\nTipos de datos en final_ab_participants_upd_us.csv:\")\n",
    "print(participants.dtypes)"
   ]
  },
  {
   "cell_type": "markdown",
   "metadata": {},
   "source": [
    "**Notas:** vamos a convertir las columnas de fecha a tipo datetime para poder trabajar con ellas más fácilmente."
   ]
  },
  {
   "cell_type": "markdown",
   "metadata": {},
   "source": [
    "### Convertir columnas de fecha a tipo datetime."
   ]
  },
  {
   "cell_type": "code",
   "execution_count": 4,
   "metadata": {},
   "outputs": [
    {
     "name": "stdout",
     "output_type": "stream",
     "text": [
      "Nuevos tipos de datos - Eventos:\n",
      "user_id               object\n",
      "event_dt      datetime64[ns]\n",
      "event_name            object\n",
      "details              float64\n",
      "dtype: object\n",
      "\n",
      "Nuevos tipos de datos - Usuarios:\n",
      "user_id               object\n",
      "first_date    datetime64[ns]\n",
      "region                object\n",
      "device                object\n",
      "dtype: object\n",
      "\n",
      "Nuevos tipos de datos - Eventos de marketing:\n",
      "name                 object\n",
      "regions              object\n",
      "start_dt     datetime64[ns]\n",
      "finish_dt    datetime64[ns]\n",
      "dtype: object\n"
     ]
    }
   ],
   "source": [
    "# Convertir columnas de fecha a tipo datetime\n",
    "events['event_dt'] = pd.to_datetime(events['event_dt'])\n",
    "new_users['first_date'] = pd.to_datetime(new_users['first_date'])\n",
    "marketing_events['start_dt'] = pd.to_datetime(marketing_events['start_dt'])\n",
    "marketing_events['finish_dt'] = pd.to_datetime(marketing_events['finish_dt'])\n",
    "\n",
    "# Verificar los nuevos tipos de datos\n",
    "print(\"Nuevos tipos de datos - Eventos:\")\n",
    "print(events.dtypes)\n",
    "print(\"\\nNuevos tipos de datos - Usuarios:\")\n",
    "print(new_users.dtypes)\n",
    "print(\"\\nNuevos tipos de datos - Eventos de marketing:\")\n",
    "print(marketing_events.dtypes)"
   ]
  },
  {
   "cell_type": "markdown",
   "metadata": {},
   "source": [
    "### Valores ausentes y duplicados."
   ]
  },
  {
   "cell_type": "code",
   "execution_count": 5,
   "metadata": {},
   "outputs": [
    {
     "name": "stdout",
     "output_type": "stream",
     "text": [
      "Valores ausentes en ab_project_marketing_events_us.csv:\n",
      "name         0\n",
      "regions      0\n",
      "start_dt     0\n",
      "finish_dt    0\n",
      "dtype: int64\n",
      "\n",
      "Valores ausentes en final_ab_new_users_upd_us.csv:\n",
      "user_id       0\n",
      "first_date    0\n",
      "region        0\n",
      "device        0\n",
      "dtype: int64\n",
      "\n",
      "Valores ausentes en final_ab_events_upd_us.csv:\n",
      "user_id            0\n",
      "event_dt           0\n",
      "event_name         0\n",
      "details       363447\n",
      "dtype: int64\n",
      "\n",
      "Valores ausentes en final_ab_participants_upd_us.csv:\n",
      "user_id    0\n",
      "group      0\n",
      "ab_test    0\n",
      "dtype: int64\n"
     ]
    }
   ],
   "source": [
    "# Verificar valores ausentes\n",
    "print(\"Valores ausentes en ab_project_marketing_events_us.csv:\")\n",
    "print(marketing_events.isnull().sum())\n",
    "print(\"\\nValores ausentes en final_ab_new_users_upd_us.csv:\")\n",
    "print(new_users.isnull().sum())\n",
    "print(\"\\nValores ausentes en final_ab_events_upd_us.csv:\")\n",
    "print(events.isnull().sum())\n",
    "print(\"\\nValores ausentes en final_ab_participants_upd_us.csv:\")\n",
    "print(participants.isnull().sum())"
   ]
  },
  {
   "cell_type": "markdown",
   "metadata": {},
   "source": [
    "### Gestion de valores ausentes."
   ]
  },
  {
   "cell_type": "code",
   "execution_count": 6,
   "metadata": {},
   "outputs": [
    {
     "name": "stdout",
     "output_type": "stream",
     "text": [
      "Valores ausentes después de la imputación:\n",
      "user_id       0\n",
      "event_dt      0\n",
      "event_name    0\n",
      "details       0\n",
      "dtype: int64\n"
     ]
    }
   ],
   "source": [
    "# Imputar valores ausentes en la columna 'details' con ceros\n",
    "events['details'].fillna(0, inplace=True)\n",
    "\n",
    "# Verificar valores ausentes después de la imputación\n",
    "print(\"Valores ausentes después de la imputación:\")\n",
    "print(events.isnull().sum())"
   ]
  },
  {
   "cell_type": "code",
   "execution_count": 7,
   "metadata": {},
   "outputs": [
    {
     "name": "stdout",
     "output_type": "stream",
     "text": [
      "\n",
      "Valores duplicados en ab_project_marketing_events_us.csv: 0\n",
      "Valores duplicados en final_ab_new_users_upd_us.csv: 0\n",
      "Valores duplicados en final_ab_events_upd_us.csv: 0\n",
      "Valores duplicados en final_ab_participants_upd_us.csv: 0\n"
     ]
    }
   ],
   "source": [
    "# Verificar valores duplicados\n",
    "print(\"\\nValores duplicados en ab_project_marketing_events_us.csv:\", marketing_events.duplicated().sum())\n",
    "print(\"Valores duplicados en final_ab_new_users_upd_us.csv:\", new_users.duplicated().sum())\n",
    "print(\"Valores duplicados en final_ab_events_upd_us.csv:\", events.duplicated().sum())\n",
    "print(\"Valores duplicados en final_ab_participants_upd_us.csv:\", participants.duplicated().sum())"
   ]
  },
  {
   "cell_type": "markdown",
   "metadata": {},
   "source": [
    "**Notas:**\n",
    "\n",
    "Después de imputar los valores de la columna details con ceros, podemos ver que ya no hay valores ausentes en el conjunto de datos de eventos. Además, no hay valores duplicados en ninguno de los conjuntos de datos proporcionados.\n",
    "\n",
    "Esto significa que nuestro conjunto de datos está listo para continuar con el análisis de la conversión en las etapas del embudo."
   ]
  },
  {
   "cell_type": "markdown",
   "metadata": {},
   "source": [
    "<div class=\"alert alert-block alert-success\">\n",
    "<b>Comentario del revisor</b> <a class=\"tocSkip\"></a>\n",
    "<br>El preprocesamiento de datos está bien estructurado. Se identifican y eliminan valores ausentes y duplicados de manera adecuada. La conversión de tipos de datos es apropiada y necesaria para el análisis posterior.\n",
    "</div>"
   ]
  },
  {
   "cell_type": "markdown",
   "metadata": {},
   "source": [
    "## Análisis exploratorio de datos."
   ]
  },
  {
   "cell_type": "markdown",
   "metadata": {},
   "source": [
    "### Conversión en diferentes etapas del embudo."
   ]
  },
  {
   "cell_type": "code",
   "execution_count": 8,
   "metadata": {},
   "outputs": [
    {
     "name": "stdout",
     "output_type": "stream",
     "text": [
      "Tasas de conversión en cada etapa del embudo:\n",
      "product_page: 66.32%\n",
      "product_card: 0.00%\n",
      "purchase: 33.33%\n"
     ]
    }
   ],
   "source": [
    "# Calcular la tasa de conversión en cada etapa del embudo\n",
    "conversion_rates = {}\n",
    "for event in ['product_page', 'product_card', 'purchase']:\n",
    "    total_users = events[events['event_name'] == event]['user_id'].nunique()\n",
    "    conversion_rates[event] = total_users / len(new_users) * 100\n",
    "\n",
    "# Mostrar las tasas de conversión\n",
    "print(\"Tasas de conversión en cada etapa del embudo:\")\n",
    "for event, rate in conversion_rates.items():\n",
    "    print(f\"{event}: {rate:.2f}%\")"
   ]
  },
  {
   "cell_type": "markdown",
   "metadata": {},
   "source": [
    "**Notas**: Estos resultados sugieren que hay una alta tasa de conversión desde la página del producto hasta la compra, pero no hay ninguna conversión desde la tarjeta de producto a la compra. Esto puede indicar un problema en el embudo de ventas."
   ]
  },
  {
   "cell_type": "markdown",
   "metadata": {},
   "source": [
    "### Distribución del número de eventos por usuario entre las muestras A y B."
   ]
  },
  {
   "cell_type": "code",
   "execution_count": 9,
   "metadata": {},
   "outputs": [
    {
     "name": "stdout",
     "output_type": "stream",
     "text": [
      "\n",
      "Promedio de eventos por usuario en cada grupo:\n",
      "group\n",
      "A    7.45555\n",
      "B    7.11249\n",
      "Name: event_count, dtype: float64\n"
     ]
    }
   ],
   "source": [
    "# Combinar los DataFrames events y participants\n",
    "merged_data = pd.merge(events, participants, on='user_id', how='inner')\n",
    "\n",
    "# Calcular el número de eventos por usuario en cada grupo de prueba\n",
    "events_per_user = merged_data.groupby(['user_id', 'group']).size().reset_index(name='event_count')\n",
    "\n",
    "# Calcular el promedio de eventos por usuario en cada grupo\n",
    "avg_events_per_user = events_per_user.groupby('group')['event_count'].mean()\n",
    "\n",
    "# Mostrar el promedio de eventos por usuario en cada grupo\n",
    "print(\"\\nPromedio de eventos por usuario en cada grupo:\")\n",
    "print(avg_events_per_user)"
   ]
  },
  {
   "cell_type": "markdown",
   "metadata": {},
   "source": [
    "**Notas**: en promedio, los usuarios en ambos grupos participaron en una cantidad similar de eventos durante el período de la prueba A/B. Es importante tener en cuenta este equilibrio al analizar los resultados de la prueba A/B para asegurar que cualquier diferencia en las métricas no se deba simplemente a una diferencia en la participación de los usuarios entre los grupos."
   ]
  },
  {
   "cell_type": "markdown",
   "metadata": {},
   "source": [
    "### Usuarios presentes en ambas muestras."
   ]
  },
  {
   "cell_type": "code",
   "execution_count": 10,
   "metadata": {},
   "outputs": [
    {
     "name": "stdout",
     "output_type": "stream",
     "text": [
      "\n",
      "Número de usuarios presentes en ambas muestras: 887\n"
     ]
    }
   ],
   "source": [
    "# Encontrar usuarios presentes en ambas muestras\n",
    "users_both_groups = participants.groupby('user_id').filter(lambda x: x['ab_test'].nunique() > 1)['user_id'].nunique()\n",
    "\n",
    "# Mostrar el número de usuarios presentes en ambas muestras\n",
    "print(\"\\nNúmero de usuarios presentes en ambas muestras:\", users_both_groups)\n"
   ]
  },
  {
   "cell_type": "markdown",
   "metadata": {},
   "source": [
    "### Distribución del número de eventos entre los días."
   ]
  },
  {
   "cell_type": "code",
   "execution_count": 11,
   "metadata": {},
   "outputs": [
    {
     "data": {
      "image/png": "[encoded data removed]",
      "text/plain": [
       "<Figure size 1000x600 with 1 Axes>"
      ]
     },
     "metadata": {},
     "output_type": "display_data"
    }
   ],
   "source": [
    "# Convertir 'event_dt' a tipo de dato datetime\n",
    "events['event_dt'] = pd.to_datetime(events['event_dt'])\n",
    "\n",
    "# Agregar una columna para el día del evento\n",
    "events['event_day'] = events['event_dt'].dt.date\n",
    "\n",
    "# Contar el número de eventos por día\n",
    "events_per_day = events.groupby('event_day').size()\n",
    "\n",
    "# Graficar la distribución del número de eventos por día\n",
    "import matplotlib.pyplot as plt\n",
    "\n",
    "plt.figure(figsize=(10, 6))\n",
    "plt.plot(events_per_day.index, events_per_day.values, marker='o', linestyle='-')\n",
    "plt.title('Distribución del número de eventos por día')\n",
    "plt.xlabel('Día')\n",
    "plt.ylabel('Número de eventos')\n",
    "plt.grid(True)\n",
    "plt.xticks(rotation=45)\n",
    "plt.tight_layout()\n",
    "plt.show()"
   ]
  },
  {
   "cell_type": "markdown",
   "metadata": {},
   "source": [
    "### ¿Hay alguna peculiaridad en los datos que hay que tener en cuenta antes de iniciar la prueba A/B?\n",
    "R: Una peculiaridad importante que debemos tener en cuenta antes de iniciar la prueba A/B es la presencia de usuarios que están presentes en ambas muestras del experimento. Estos usuarios pueden introducir sesgos si no se manejan adecuadamente durante el análisis de los resultados."
   ]
  },
  {
   "cell_type": "markdown",
   "metadata": {},
   "source": [
    "### Excluir usuarios presentes en ambas muestras."
   ]
  },
  {
   "cell_type": "code",
   "execution_count": 12,
   "metadata": {},
   "outputs": [
    {
     "name": "stdout",
     "output_type": "stream",
     "text": [
      "Número de usuarios presentes en ambas muestras después de la exclusión: 0\n"
     ]
    }
   ],
   "source": [
    "# Encontrar usuarios presentes en ambas muestras\n",
    "users_both_groups = participants.groupby('user_id').filter(lambda x: x['ab_test'].nunique() > 1)['user_id'].unique()\n",
    "\n",
    "# Excluir usuarios presentes en ambas muestras del DataFrame participants\n",
    "participants_filtered = participants[~participants['user_id'].isin(users_both_groups)]\n",
    "\n",
    "# Excluir usuarios presentes en ambas muestras del DataFrame events\n",
    "events_filtered = events[~events['user_id'].isin(users_both_groups)]\n",
    "\n",
    "# Excluir usuarios presentes en ambas muestras del DataFrame merged_data (si se ha combinado previamente)\n",
    "if 'merged_data' in globals():\n",
    "    merged_data_filtered = merged_data[~merged_data['user_id'].isin(users_both_groups)]\n",
    "\n",
    "# Verificar que los usuarios presentes en ambas muestras hayan sido excluidos correctamente\n",
    "users_both_groups_after_exclusion = participants_filtered.groupby('user_id').filter(lambda x: x['ab_test'].nunique() > 1)['user_id'].unique()\n",
    "print(\"Número de usuarios presentes en ambas muestras después de la exclusión:\", len(users_both_groups_after_exclusion))\n"
   ]
  },
  {
   "cell_type": "markdown",
   "metadata": {},
   "source": [
    "##  Prueba A/B , Hipotesis."
   ]
  },
  {
   "cell_type": "markdown",
   "metadata": {},
   "source": [
    "- Hipótesis Nula (H0):\n",
    "No hay diferencia significativa en las tasas de conversión entre el grupo de control (A) y el grupo de prueba (B).\n",
    "\n",
    "- Hipótesis Alternativa (H1):\n",
    "Hay una diferencia significativa en las tasas de conversión entre el grupo de control (A) y el grupo de prueba (B)."
   ]
  },
  {
   "cell_type": "code",
   "execution_count": 13,
   "metadata": {},
   "outputs": [
    {
     "name": "stdout",
     "output_type": "stream",
     "text": [
      "Diferencia en las tasas de conversión: -0.05383752505532091\n",
      "Valor z: -16.92\n",
      "P-valor: 0.0\n",
      "Rechazamos la hipótesis nula. Hay una diferencia significativa en las tasas de conversión entre los grupos A y B.\n"
     ]
    }
   ],
   "source": [
    "# Obtener el número total de usuarios en cada grupo\n",
    "total_users_control = participants_filtered[participants_filtered['group'] == 'A']['user_id'].nunique()\n",
    "total_users_test = participants_filtered[participants_filtered['group'] == 'B']['user_id'].nunique()\n",
    "\n",
    "# Obtener el número de usuarios que completaron cada evento en cada grupo\n",
    "events_control = events_filtered[events_filtered['user_id'].isin(participants_filtered[participants_filtered['group'] == 'A']['user_id'])]\n",
    "events_test = events_filtered[events_filtered['user_id'].isin(participants_filtered[participants_filtered['group'] == 'B']['user_id'])]\n",
    "\n",
    "# Calcular las tasas de conversión en cada grupo\n",
    "conversion_rate_control = len(events_control[events_control['event_name'] == 'purchase']) / total_users_control\n",
    "conversion_rate_test = len(events_test[events_test['event_name'] == 'purchase']) / total_users_test\n",
    "\n",
    "# Calcular la diferencia en las tasas de conversión\n",
    "diff_conversion_rate = conversion_rate_test - conversion_rate_control\n",
    "\n",
    "# Calcular el error estándar de la diferencia (se_diff)\n",
    "se_diff = ((conversion_rate_test * (1 - conversion_rate_test)) / total_users_test + (conversion_rate_control * (1 - conversion_rate_control)) / total_users_control) ** 0.5\n",
    "\n",
    "# Calcular el valor z y el p-valor\n",
    "z_score = round(diff_conversion_rate / abs(se_diff), 2)\n",
    "p_value = round(stats.norm.cdf(z_score), 2)\n",
    "\n",
    "# Imprimir resultados\n",
    "print(\"Diferencia en las tasas de conversión:\", diff_conversion_rate)\n",
    "print(\"Valor z:\", z_score)\n",
    "print(\"P-valor:\", p_value)\n",
    "\n",
    "# Definir nivel de significancia\n",
    "alpha = 0.05\n",
    "\n",
    "# Comprobar si rechazamos o no la hipótesis nula\n",
    "if p_value < alpha:\n",
    "    print(\"Rechazamos la hipótesis nula. Hay una diferencia significativa en las tasas de conversión entre los grupos A y B.\")\n",
    "else:\n",
    "    print(\"No rechazamos la hipótesis nula. No hay suficiente evidencia para afirmar que hay una diferencia significativa en las tasas de conversión entre los grupos A y B.\")"
   ]
  },
  {
   "cell_type": "markdown",
   "metadata": {},
   "source": [
    "**Notas**:\n",
    "\n",
    "- Diferencia en las tasas de conversión: La diferencia en las tasas de conversión entre los grupos A y B es de aproximadamente -0.054, lo que indica que la tasa de conversión en el grupo B es menor que en el grupo A.\n",
    "\n",
    "- Valor z: El valor z es -16.92, lo que indica que la diferencia observada es muy significativa en términos estadísticos.\n",
    "\n",
    "- P-valor: El p-valor es 0.0, lo que significa que hay una probabilidad muy baja de obtener una diferencia tan grande o mayor entre los grupos si la hipótesis nula fuera cierta.\n",
    "\n",
    "- Conclusión: \n",
    "    Dado que el p-valor es menor que el nivel de significancia (0.05), rechazamos la hipótesis nula. Por lo tanto, hay una diferencia significativa en las tasas de conversión entre los grupos A y B.\n",
    "\n",
    "Esto sugiere que el cambio implementado en el grupo B (nuevo embudo de pago) ha tenido un impacto significativo en la tasa de conversión en comparación con el grupo de control A."
   ]
  },
  {
   "cell_type": "markdown",
   "metadata": {},
   "source": [
    "## Prueba z para comprobar la diferencia estadística entre las proporciones"
   ]
  },
  {
   "cell_type": "code",
   "execution_count": 14,
   "metadata": {},
   "outputs": [
    {
     "name": "stdout",
     "output_type": "stream",
     "text": [
      "Total usuarios en control: 5011\n",
      "Total usuarios en test: 4952\n",
      "Proporción de conversiones en control: 0.3556176411893834\n",
      "Proporción de conversiones en test: 0.3338045234248788\n",
      "Error estándar de la diferencia de proporciones: 0.00952034976881\n",
      "Valor z para proporciones: -2.2912097028165284\n",
      "P-valor para proporciones: 0.0219512880568149\n",
      "Rechazamos la hipótesis nula. Hay una diferencia significativa en las tasas de conversión entre los grupos A y B.\n"
     ]
    }
   ],
   "source": [
    "# Encontrar los usuarios presentes en ambas muestras\n",
    "users_in_both_samples = set(participants[participants['ab_test'] == 'recommender_system_test']['user_id']).intersection(set(participants['user_id']))\n",
    "\n",
    "# Filtrar los participantes que no están en ambas muestras\n",
    "participants_filtered = participants[~participants['user_id'].isin(users_in_both_samples)]\n",
    "\n",
    "# Obtener el número total de usuarios en cada grupo\n",
    "total_users_control = participants_filtered[participants_filtered['group'] == 'A']['user_id'].nunique()\n",
    "total_users_test = participants_filtered[participants_filtered['group'] == 'B']['user_id'].nunique()\n",
    "\n",
    "# Obtener el número de usuarios únicos que completaron el evento de compra en cada grupo\n",
    "unique_purchases_control = events[(events['user_id'].isin(participants_filtered[participants_filtered['group'] == 'A']['user_id'])) & (events['event_name'] == 'purchase')]['user_id'].nunique()\n",
    "unique_purchases_test = events[(events['user_id'].isin(participants_filtered[participants_filtered['group'] == 'B']['user_id'])) & (events['event_name'] == 'purchase')]['user_id'].nunique()\n",
    "\n",
    "# Calcular la proporción de conversiones en cada grupo\n",
    "prop_control = unique_purchases_control / total_users_control\n",
    "prop_test = unique_purchases_test / total_users_test\n",
    "\n",
    "# Imprimir los valores intermedios para depuración\n",
    "print(f\"Total usuarios en control: {total_users_control}\")\n",
    "print(f\"Total usuarios en test: {total_users_test}\")\n",
    "print(f\"Proporción de conversiones en control: {prop_control}\")\n",
    "print(f\"Proporción de conversiones en test: {prop_test}\")\n",
    "\n",
    "# Calcular el error estándar de la diferencia de proporciones\n",
    "se_diff_prop = np.sqrt((prop_control * (1 - prop_control)) / total_users_control + (prop_test * (1 - prop_test)) / total_users_test)\n",
    "\n",
    "# Imprimir el error estándar\n",
    "print(f\"Error estándar de la diferencia de proporciones: {se_diff_prop}\")\n",
    "\n",
    "# Calcular el valor z para proporciones\n",
    "z_score_prop = (prop_test - prop_control) / se_diff_prop\n",
    "\n",
    "# Calcular el p-valor utilizando una distribución normal estándar\n",
    "p_value_prop = 2 * (1 - stats.norm.cdf(abs(z_score_prop)))  # Utilizamos el valor absoluto para asegurarnos de obtener un p-valor bilateral\n",
    "\n",
    "# Imprimir resultados\n",
    "print(\"Valor z para proporciones:\", z_score_prop)\n",
    "print(\"P-valor para proporciones:\", p_value_prop)\n",
    "\n",
    "# Comprobar si rechazamos o no la hipótesis nula\n",
    "alpha = 0.05\n",
    "if p_value_prop < alpha:\n",
    "    print(\"Rechazamos la hipótesis nula. Hay una diferencia significativa en las tasas de conversión entre los grupos A y B.\")\n",
    "else:\n",
    "    print(\"No rechazamos la hipótesis nula. No hay suficiente evidencia para afirmar que hay una diferencia significativa en las tasas de conversión entre los grupos A y B.\")"
   ]
  },
  {
   "cell_type": "markdown",
   "metadata": {},
   "source": [
    "**Notas:**\n",
    "\n",
    "Valor z: El valor z de -2.29 indica cuántos errores estándar de diferencia hay entre las tasas de conversión observadas de los dos grupos. Un valor z negativo sugiere que la proporción de conversiones en el grupo de prueba es menor que en el grupo de control.\n",
    "\n",
    "P-valor: El p-valor de aproximadamente 0.022 indica la probabilidad de observar una diferencia en las tasas de conversión al menos tan extrema como la observada, asumiendo que no hay diferencia real (hipótesis nula es verdadera).\n",
    "\n",
    "Nivel de significancia: Con un nivel de significancia comúnmente utilizado de 0.05, el p-valor obtenido (0.022) es menor que 0.05, lo que significa que rechazamos la hipótesis nula."
   ]
  },
  {
   "cell_type": "markdown",
   "metadata": {},
   "source": [
    "##  Conclusiones.\n",
    "\n",
    "El análisis de la prueba A/B del nuevo sistema de recomendaciones revela que existe una diferencia significativa en las tasas de conversión entre los grupos de control y de prueba. La proporción de conversiones en el grupo de control fue significativamente mayor que en el grupo de prueba, lo que indica que el nuevo embudo de pago no mejoró las conversiones como se esperaba.\n",
    "\n",
    "A lo largo del análisis, se identificaron varias peculiaridades, como la presencia de usuarios en ambos grupos y valores ausentes en los datos de eventos de compra, lo que podría haber afectado los resultados. Sin embargo, tras la exclusión de estos usuarios y la imputación de valores ausentes, los resultados mostraron que la tasa de conversión en el grupo de prueba fue consistentemente menor.\n",
    "\n",
    "Estos hallazgos sugieren que el nuevo sistema de recomendaciones no tuvo el impacto positivo anticipado y, de hecho, podría haber perjudicado la experiencia del usuario en alguna medida. Es fundamental llevar a cabo un análisis más detallado para identificar las causas subyacentes de esta disminución en la conversión y realizar ajustes necesarios antes de una implementación más amplia.\n",
    "\n",
    "En resumen, la prueba A/B proporciona evidencia sólida de que el nuevo sistema de recomendaciones no ha cumplido con las expectativas de mejora de la conversión y requiere revisiones significativas antes de ser reconsiderado para su implementación en toda la plataforma."
   ]
  },
  {
   "cell_type": "markdown",
   "metadata": {},
   "source": [
    "## Recomendaciones.\n",
    "\n",
    "Dado que el nuevo embudo de pago no mejora la tasa de conversión y de hecho la disminuye, es recomendable no implementar el nuevo embudo de pago en su forma actual. Se sugiere analizar las posibles causas de esta disminución y considerar realizar ajustes antes de probar nuevamente cualquier nueva versión del embudo de pago.\n",
    "\n",
    "Establecer un sistema de monitoreo continuo para las tasas de conversión y otros indicadores clave de rendimiento permitirá realizar ajustes rápidos y minimizar cualquier impacto negativo. Recoger feedback cualitativo de los usuarios a través de encuestas y análisis de comentarios puede proporcionar una visión más profunda de sus experiencias y percepciones, ayudando a orientar futuras mejoras."
   ]
  },
  {
   "cell_type": "markdown",
   "metadata": {},
   "source": [
    "<div class=\"alert alert-block alert-success\">\n",
    "<b>Comentario del revisor</b> <a class=\"tocSkip\"></a>\n",
    "\n",
    "¡Impresionante esfuerzo en este proyecto! 🌟 **Este proyecto está listo para ser aprobado.**<br>\n",
    "Tu habilidad para ejecutar y presentar este trabajo es admirable.<br>\n",
    "<br>Es un placer reconocer tu dedicación y el análisis detallado que has llevado a cabo. Continúa superándote en tus futuras iniciativas. Confío en que aplicarás este conocimiento de manera efectiva en desafíos futuros, avanzando hacia objetivos aún más ambiciosos.\n",
    "</div>\n"
   ]
  }
 ],
 "metadata": {
  "ExecuteTimeLog": [
   {
    "duration": 971,
    "start_time": "2024-06-05T15:25:50.001Z"
   },
   {
    "duration": 5,
    "start_time": "2024-06-05T15:26:09.092Z"
   },
   {
    "duration": 1206,
    "start_time": "2024-06-05T15:26:19.384Z"
   },
   {
    "duration": 1008,
    "start_time": "2024-06-05T15:26:39.677Z"
   },
   {
    "duration": 1217,
    "start_time": "2024-06-05T15:26:40.689Z"
   },
   {
    "duration": 128,
    "start_time": "2024-06-05T15:27:42.451Z"
   },
   {
    "duration": 1212,
    "start_time": "2024-06-05T15:30:24.766Z"
   },
   {
    "duration": 15,
    "start_time": "2024-06-05T15:31:07.841Z"
   },
   {
    "duration": 8,
    "start_time": "2024-06-05T15:31:23.022Z"
   },
   {
    "duration": 147,
    "start_time": "2024-06-05T15:32:16.043Z"
   },
   {
    "duration": 51,
    "start_time": "2024-06-05T15:33:09.733Z"
   },
   {
    "duration": 116,
    "start_time": "2024-06-05T15:33:28.305Z"
   },
   {
    "duration": 44,
    "start_time": "2024-06-05T15:34:16.096Z"
   },
   {
    "duration": 298,
    "start_time": "2024-06-05T15:34:28.798Z"
   },
   {
    "duration": 4,
    "start_time": "2024-06-05T15:34:54.263Z"
   },
   {
    "duration": 4,
    "start_time": "2024-06-05T15:35:11.273Z"
   },
   {
    "duration": 155,
    "start_time": "2024-06-05T15:35:23.629Z"
   },
   {
    "duration": 4,
    "start_time": "2024-06-05T15:35:50.851Z"
   },
   {
    "duration": 237,
    "start_time": "2024-06-05T15:36:16.149Z"
   },
   {
    "duration": 5,
    "start_time": "2024-06-05T15:36:38.716Z"
   },
   {
    "duration": 4794,
    "start_time": "2024-06-05T15:36:50.242Z"
   },
   {
    "duration": 5066,
    "start_time": "2024-06-05T15:38:30.090Z"
   },
   {
    "duration": 9643,
    "start_time": "2024-06-05T15:40:57.891Z"
   },
   {
    "duration": 137,
    "start_time": "2024-06-05T15:42:19.238Z"
   },
   {
    "duration": 9,
    "start_time": "2024-06-05T15:42:36.060Z"
   },
   {
    "duration": 56,
    "start_time": "2024-06-05T15:43:34.279Z"
   },
   {
    "duration": 218,
    "start_time": "2024-06-05T15:43:51.762Z"
   },
   {
    "duration": 925,
    "start_time": "2024-06-05T15:45:15.446Z"
   },
   {
    "duration": 689,
    "start_time": "2024-06-05T15:45:16.375Z"
   },
   {
    "duration": 10,
    "start_time": "2024-06-05T15:45:17.067Z"
   },
   {
    "duration": 170,
    "start_time": "2024-06-05T15:45:17.082Z"
   },
   {
    "duration": 79,
    "start_time": "2024-06-05T15:45:17.255Z"
   },
   {
    "duration": 51,
    "start_time": "2024-06-05T15:45:17.338Z"
   },
   {
    "duration": 319,
    "start_time": "2024-06-05T15:45:17.393Z"
   },
   {
    "duration": 182,
    "start_time": "2024-06-05T15:45:17.715Z"
   },
   {
    "duration": 234,
    "start_time": "2024-06-05T15:45:17.900Z"
   },
   {
    "duration": 4671,
    "start_time": "2024-06-05T15:45:18.141Z"
   },
   {
    "duration": 988,
    "start_time": "2024-06-05T15:45:22.815Z"
   },
   {
    "duration": 9089,
    "start_time": "2024-06-05T15:45:23.806Z"
   },
   {
    "duration": 150,
    "start_time": "2024-06-05T15:45:32.899Z"
   },
   {
    "duration": 526,
    "start_time": "2024-06-05T15:45:33.052Z"
   },
   {
    "duration": 177,
    "start_time": "2024-06-05T15:48:25.835Z"
   },
   {
    "duration": 920,
    "start_time": "2024-06-05T15:53:37.090Z"
   },
   {
    "duration": 689,
    "start_time": "2024-06-05T15:53:38.015Z"
   },
   {
    "duration": 20,
    "start_time": "2024-06-05T15:53:38.707Z"
   },
   {
    "duration": 173,
    "start_time": "2024-06-05T15:53:38.732Z"
   },
   {
    "duration": 74,
    "start_time": "2024-06-05T15:53:38.908Z"
   },
   {
    "duration": 71,
    "start_time": "2024-06-05T15:53:38.986Z"
   },
   {
    "duration": 314,
    "start_time": "2024-06-05T15:53:39.060Z"
   },
   {
    "duration": 166,
    "start_time": "2024-06-05T15:53:39.377Z"
   },
   {
    "duration": 273,
    "start_time": "2024-06-05T15:53:39.547Z"
   },
   {
    "duration": 4746,
    "start_time": "2024-06-05T15:53:39.830Z"
   },
   {
    "duration": 960,
    "start_time": "2024-06-05T15:53:44.579Z"
   },
   {
    "duration": 9498,
    "start_time": "2024-06-05T15:53:45.547Z"
   },
   {
    "duration": 139,
    "start_time": "2024-06-05T15:53:55.048Z"
   },
   {
    "duration": 188,
    "start_time": "2024-06-05T15:53:55.190Z"
   }
  ],
  "kernelspec": {
   "display_name": "Python 3 (ipykernel)",
   "language": "python",
   "name": "python3"
  },
  "language_info": {
   "codemirror_mode": {
    "name": "ipython",
    "version": 3
   },
   "file_extension": ".py",
   "mimetype": "text/x-python",
   "name": "python",
   "nbconvert_exporter": "python",
   "pygments_lexer": "ipython3",
   "version": "3.9.19"
  },
  "toc": {
   "base_numbering": 1,
   "nav_menu": {},
   "number_sections": true,
   "sideBar": true,
   "skip_h1_title": true,
   "title_cell": "Table of Contents",
   "title_sidebar": "Contents",
   "toc_cell": false,
   "toc_position": {
    "height": "calc(100% - 180px)",
    "left": "10px",
    "top": "150px",
    "width": "216.319px"
   },
   "toc_section_display": true,
   "toc_window_display": false
  }
 },
 "nbformat": 4,
 "nbformat_minor": 2
}
